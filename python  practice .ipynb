{
 "cells": [
  {
   "cell_type": "code",
   "execution_count": 22,
   "metadata": {},
   "outputs": [
    {
     "name": "stdout",
     "output_type": "stream",
     "text": [
      "Enter The number:\n",
      "6\n",
      "The total natural number is= 21\n"
     ]
    }
   ],
   "source": [
    "# sum of natural number\n",
    "print(\"Enter The number:\")\n",
    "num= int(input())\n",
    "total = 0\n",
    "\n",
    "while num>0:\n",
    "    total = num+total\n",
    "    num = num-1\n",
    "print(\"The total natural number is=\", total)    "
   ]
  },
  {
   "cell_type": "code",
   "execution_count": 10,
   "metadata": {},
   "outputs": [
    {
     "name": "stdout",
     "output_type": "stream",
     "text": [
      "Enter the number:\n",
      "\n",
      "7\n",
      "The total sum: 7\n",
      "The total sum: 14\n",
      "The total sum: 21\n",
      "The total sum: 28\n",
      "The total sum: 35\n",
      "The total sum: 42\n",
      "The total sum: 49\n",
      "The total sum: 56\n",
      "The total sum: 63\n",
      "The total sum: 70\n"
     ]
    }
   ],
   "source": [
    "# multiple tables\n",
    "print(\"Enter the number:\\n\")\n",
    "table = int(input())\n",
    "\n",
    "for num in range(1,11):\n",
    "    print(\"The total sum:\",table*num)\n"
   ]
  },
  {
   "cell_type": "code",
   "execution_count": 26,
   "metadata": {},
   "outputs": [
    {
     "name": "stdout",
     "output_type": "stream",
     "text": [
      "Enter the number\n",
      "6\n",
      "1\n",
      "3\n",
      "5\n",
      " total number 1 to 6 = 9\n"
     ]
    }
   ],
   "source": [
    "# sum of odd numbers\n",
    "print(\"Enter the number\")\n",
    "num = int(input())\n",
    "total = 0\n",
    "for num in range(1, num+1):\n",
    "    if (num % 2!=0):\n",
    "        print(\"{0}\".format(num))\n",
    "        total= total+num\n",
    "print(\" total number 1 to {0} = {1}\".format(num, total)) \n",
    "    \n",
    "    \n"
   ]
  },
  {
   "cell_type": "code",
   "execution_count": 33,
   "metadata": {},
   "outputs": [
    {
     "name": "stdout",
     "output_type": "stream",
     "text": [
      "Enter the numbers:678997665\n",
      "the sum of digits: 9\n"
     ]
    }
   ],
   "source": [
    "#Write a Python program to count number of digits in a number.\n",
    "\n",
    "num = int(input(\"Enter the numbers:\"))\n",
    "\n",
    "count = 0\n",
    "\n",
    "while num >0:\n",
    "    count= count+1\n",
    "    num=num//10\n",
    "print(\"the sum of digits:\", count)    "
   ]
  },
  {
   "cell_type": "code",
   "execution_count": 75,
   "metadata": {},
   "outputs": [
    {
     "name": "stdout",
     "output_type": "stream",
     "text": [
      "Enter number: 12345\n",
      "Sum of first 6\n"
     ]
    }
   ],
   "source": [
    "#Write a Python program to find first and last digit of a number.\n",
    "\n",
    "number  = input(\"Enter number: \")\n",
    "\n",
    "# Reversing number\n",
    "reverse = number[::-1]\n",
    "\n",
    "# Converting number and its reverse to integer\n",
    "number = int(number)\n",
    "reverse = int(reverse)\n",
    "\n",
    "# Finding first digit\n",
    "first_digit = reverse % 10\n",
    "\n",
    "# Finding last digit\n",
    "last_digit = number % 10\n",
    "\n",
    "# Finding sum\n",
    "total_sum = first_digit + last_digit\n",
    "\n",
    "# Displaying sum\n",
    "print(\"Sum of first\",total_sum)\n",
    "\n",
    "\n"
   ]
  },
  {
   "cell_type": "code",
   "execution_count": 69,
   "metadata": {},
   "outputs": [
    {
     "name": "stdout",
     "output_type": "stream",
     "text": [
      "Enter a number 1234567890\n",
      "123456789\n",
      "12345678\n",
      "1234567\n",
      "123456\n",
      "12345\n",
      "1234\n",
      "123\n",
      "12\n",
      "1\n"
     ]
    }
   ],
   "source": [
    "#Write a Python program to find first and last digit of a number.[e]\n",
    "num=int(input('Enter a number '))\n",
    "num1=num%10\n",
    "num2=num\n",
    "while (num2>=10):\n",
    "    num2=num2//10\n",
    "    print (num1+num2)"
   ]
  },
  {
   "cell_type": "code",
   "execution_count": 80,
   "metadata": {},
   "outputs": [
    {
     "name": "stdout",
     "output_type": "stream",
     "text": [
      "Enter the number1\n",
      "Enter the number3\n",
      "1\n"
     ]
    }
   ],
   "source": [
    "#swap two numbers\n",
    "x=int(input(\"Enter the number\"))\n",
    "y=int(input(\"Enter the number\"))\n",
    "temp=x\n",
    "x=y\n",
    "y=temp\n",
    "print(temp)\n",
    "            \n",
    "\n"
   ]
  },
  {
   "cell_type": "code",
   "execution_count": null,
   "metadata": {},
   "outputs": [],
   "source": [
    "#find the number postive or negative\n",
    "print(\"Enter the number:\")\n",
    "num=int(input())\n",
    "\n",
    "if num>0:\n",
    "    print(\"Number is postive\")\n",
    "else:\n",
    "    print(\"Number is negative\")\n",
    "        "
   ]
  },
  {
   "cell_type": "code",
   "execution_count": 4,
   "metadata": {},
   "outputs": [
    {
     "name": "stdout",
     "output_type": "stream",
     "text": [
      "Enter the number1234\n",
      "the total number is: 10\n"
     ]
    }
   ],
   "source": [
    "#Write a Python program to calculate sum of digits of a number.\n",
    "\n",
    "n=int(input(\"Enter the number\"))\n",
    "total=0\n",
    "\n",
    "while(n>0):\n",
    "    dig=n%10\n",
    "    total=total+dig\n",
    "    n=n//10\n",
    "print(\"the total number is:\",total)    \n",
    "    "
   ]
  },
  {
   "cell_type": "code",
   "execution_count": null,
   "metadata": {},
   "outputs": [],
   "source": []
  }
 ],
 "metadata": {
  "kernelspec": {
   "display_name": "Python 3",
   "language": "python",
   "name": "python3"
  },
  "language_info": {
   "codemirror_mode": {
    "name": "ipython",
    "version": 3
   },
   "file_extension": ".py",
   "mimetype": "text/x-python",
   "name": "python",
   "nbconvert_exporter": "python",
   "pygments_lexer": "ipython3",
   "version": "3.7.4"
  }
 },
 "nbformat": 4,
 "nbformat_minor": 2
}
